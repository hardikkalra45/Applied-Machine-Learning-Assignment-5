{
  "cells": [
    {
      "cell_type": "code",
      "execution_count": 1,
      "metadata": {
        "id": "n8ktmDeVJEI-"
      },
      "outputs": [],
      "source": [
        "from tensorflow.keras.layers import Input, Lambda, Dense, Flatten, Dropout\n",
        "from sklearn.metrics import accuracy_score, classification_report, confusion_matrix\n",
        "import numpy as np\n",
        "from tensorflow.keras.models import Model\n",
        "from tensorflow.keras.applications.vgg19 import VGG19\n",
        "from tensorflow.keras.applications.vgg19 import preprocess_input\n",
        "from tensorflow.keras.preprocessing import image\n",
        "from tensorflow.keras.preprocessing.image import ImageDataGenerator\n",
        "from tensorflow.keras.models import Sequential\n",
        "import numpy as np\n",
        "import pandas as pd\n",
        "import os\n",
        "import cv2\n",
        "import matplotlib.pyplot as plt"
      ]
    },
    {
      "cell_type": "code",
      "source": [
        "from google.colab import drive\n",
        "drive.mount('/content/drive')"
      ],
      "metadata": {
        "colab": {
          "base_uri": "https://localhost:8080/"
        },
        "id": "NslTnzkkWT11",
        "outputId": "ccef1952-5392-44e4-ff64-8bb1c6a1202a"
      },
      "execution_count": 2,
      "outputs": [
        {
          "output_type": "stream",
          "name": "stdout",
          "text": [
            "Mounted at /content/drive\n"
          ]
        }
      ]
    },
    {
      "cell_type": "code",
      "execution_count": 3,
      "metadata": {
        "id": "Z1KjM24_JEI_"
      },
      "outputs": [],
      "source": [
        "def preprocess_images(data_path, flag):\n",
        "        l = []\n",
        "        for file in os.listdir(data_path):\n",
        "            img_path = os.path.join(data_path, file)\n",
        "            img_arr = cv2.imread(img_path)\n",
        "            img_arr = cv2.resize(img_arr, (224, 224))\n",
        "            img_arr = img_arr / 255.0\n",
        "            l.append((img_arr, flag))\n",
        "        return list(l)"
      ]
    },
    {
      "cell_type": "code",
      "execution_count": 4,
      "metadata": {
        "id": "MFZEaWNUJEJA"
      },
      "outputs": [],
      "source": [
        "train_path = \"/content/drive/MyDrive/data/chicken-images/data/train\"\n",
        "test_path = \"/content/drive/MyDrive/data/chicken-images/data/test\"\n",
        "val_path = \"/content/drive/MyDrive/data/chicken-images/data/val\"\n",
        "\n",
        "train_data = preprocess_images(train_path, 0)\n",
        "test_data = preprocess_images(test_path, 0)\n",
        "val_data = preprocess_images(val_path, 0)\n",
        "\n",
        "train_path = \"/content/drive/MyDrive/data/duck-images/data/train\"\n",
        "test_path = \"/content/drive/MyDrive/data/duck-images/data/test\"\n",
        "val_path = \"/content/drive/MyDrive/data/duck-images/data/val\"\n",
        "\n",
        "train_data = train_data + preprocess_images(train_path, 1)\n",
        "test_data = test_data + preprocess_images(test_path, 1)\n",
        "val_data = val_data + preprocess_images(val_path, 1)\n",
        "\n",
        "np.random.shuffle(train_data)\n",
        "np.random.shuffle(test_data)\n",
        "np.random.shuffle(val_data)\n",
        "\n",
        "train_classes = np.array([y for (x, y) in train_data])\n",
        "test_classes = np.array([y for (x, y) in test_data])\n",
        "val_classes = np.array([y for (x, y) in val_data])\n",
        "\n",
        "train_data =  np.array([x for (x, y) in train_data])\n",
        "test_data = np.array([x for (x, y) in test_data])\n",
        "val_data = np.array([x for (x, y) in val_data])"
      ]
    },
    {
      "cell_type": "code",
      "execution_count": 5,
      "metadata": {
        "id": "0TFosUMwJEJB",
        "colab": {
          "base_uri": "https://localhost:8080/"
        },
        "outputId": "b963f930-631d-4410-fbef-996e9a00d92b"
      },
      "outputs": [
        {
          "output_type": "stream",
          "name": "stdout",
          "text": [
            "Downloading data from https://storage.googleapis.com/tensorflow/keras-applications/vgg19/vgg19_weights_tf_dim_ordering_tf_kernels_notop.h5\n",
            "80134624/80134624 [==============================] - 1s 0us/step\n"
          ]
        }
      ],
      "source": [
        "pretrained_model = VGG19(input_shape=(224, 224, 3), weights=\"imagenet\", include_top=False)\n",
        "for layer in pretrained_model.layers:\n",
        "    layer.trainable = False\n",
        "\n",
        "x = Flatten()(pretrained_model.output)\n",
        "\n",
        "prediction = Dense(2, activation=\"softmax\")(x)\n",
        "\n",
        "model = Model(inputs=pretrained_model.input, outputs=prediction)"
      ]
    },
    {
      "cell_type": "code",
      "execution_count": 6,
      "metadata": {
        "id": "SrhZtsN1JEJB",
        "outputId": "5a7b2f64-6eb8-418a-8b9c-1837d7fd5475",
        "colab": {
          "base_uri": "https://localhost:8080/"
        }
      },
      "outputs": [
        {
          "output_type": "stream",
          "name": "stdout",
          "text": [
            "Model: \"model\"\n",
            "_________________________________________________________________\n",
            " Layer (type)                Output Shape              Param #   \n",
            "=================================================================\n",
            " input_1 (InputLayer)        [(None, 224, 224, 3)]     0         \n",
            "                                                                 \n",
            " block1_conv1 (Conv2D)       (None, 224, 224, 64)      1792      \n",
            "                                                                 \n",
            " block1_conv2 (Conv2D)       (None, 224, 224, 64)      36928     \n",
            "                                                                 \n",
            " block1_pool (MaxPooling2D)  (None, 112, 112, 64)      0         \n",
            "                                                                 \n",
            " block2_conv1 (Conv2D)       (None, 112, 112, 128)     73856     \n",
            "                                                                 \n",
            " block2_conv2 (Conv2D)       (None, 112, 112, 128)     147584    \n",
            "                                                                 \n",
            " block2_pool (MaxPooling2D)  (None, 56, 56, 128)       0         \n",
            "                                                                 \n",
            " block3_conv1 (Conv2D)       (None, 56, 56, 256)       295168    \n",
            "                                                                 \n",
            " block3_conv2 (Conv2D)       (None, 56, 56, 256)       590080    \n",
            "                                                                 \n",
            " block3_conv3 (Conv2D)       (None, 56, 56, 256)       590080    \n",
            "                                                                 \n",
            " block3_conv4 (Conv2D)       (None, 56, 56, 256)       590080    \n",
            "                                                                 \n",
            " block3_pool (MaxPooling2D)  (None, 28, 28, 256)       0         \n",
            "                                                                 \n",
            " block4_conv1 (Conv2D)       (None, 28, 28, 512)       1180160   \n",
            "                                                                 \n",
            " block4_conv2 (Conv2D)       (None, 28, 28, 512)       2359808   \n",
            "                                                                 \n",
            " block4_conv3 (Conv2D)       (None, 28, 28, 512)       2359808   \n",
            "                                                                 \n",
            " block4_conv4 (Conv2D)       (None, 28, 28, 512)       2359808   \n",
            "                                                                 \n",
            " block4_pool (MaxPooling2D)  (None, 14, 14, 512)       0         \n",
            "                                                                 \n",
            " block5_conv1 (Conv2D)       (None, 14, 14, 512)       2359808   \n",
            "                                                                 \n",
            " block5_conv2 (Conv2D)       (None, 14, 14, 512)       2359808   \n",
            "                                                                 \n",
            " block5_conv3 (Conv2D)       (None, 14, 14, 512)       2359808   \n",
            "                                                                 \n",
            " block5_conv4 (Conv2D)       (None, 14, 14, 512)       2359808   \n",
            "                                                                 \n",
            " block5_pool (MaxPooling2D)  (None, 7, 7, 512)         0         \n",
            "                                                                 \n",
            " flatten (Flatten)           (None, 25088)             0         \n",
            "                                                                 \n",
            " dense (Dense)               (None, 2)                 50178     \n",
            "                                                                 \n",
            "=================================================================\n",
            "Total params: 20074562 (76.58 MB)\n",
            "Trainable params: 50178 (196.01 KB)\n",
            "Non-trainable params: 20024384 (76.39 MB)\n",
            "_________________________________________________________________\n"
          ]
        }
      ],
      "source": [
        "# view the structure of the model\n",
        "model.summary()"
      ]
    },
    {
      "cell_type": "markdown",
      "metadata": {
        "id": "tO2uz1RIJEJB"
      },
      "source": [
        "# Compiling and Fitting the model"
      ]
    },
    {
      "cell_type": "code",
      "execution_count": 7,
      "metadata": {
        "id": "QYmtq2osJEJC"
      },
      "outputs": [],
      "source": [
        "model.compile(\n",
        "    loss=\"sparse_categorical_crossentropy\", optimizer=\"adam\", metrics=[\"accuracy\"]\n",
        ")"
      ]
    },
    {
      "cell_type": "code",
      "execution_count": 8,
      "metadata": {
        "id": "SCOxZpNsJEJC",
        "outputId": "3ce838ae-6fac-40fc-c807-8d3499bdb822",
        "colab": {
          "base_uri": "https://localhost:8080/"
        }
      },
      "outputs": [
        {
          "output_type": "stream",
          "name": "stdout",
          "text": [
            "Epoch 1/10\n",
            "29/29 [==============================] - 898s 31s/step - loss: 0.7847 - accuracy: 0.7200 - val_loss: 0.4123 - val_accuracy: 0.8385\n",
            "Epoch 2/10\n",
            "29/29 [==============================] - 882s 30s/step - loss: 0.2176 - accuracy: 0.9074 - val_loss: 0.4245 - val_accuracy: 0.8447\n",
            "Epoch 3/10\n",
            "29/29 [==============================] - 878s 30s/step - loss: 0.0895 - accuracy: 0.9768 - val_loss: 0.4330 - val_accuracy: 0.8571\n",
            "Epoch 4/10\n",
            "29/29 [==============================] - 870s 30s/step - loss: 0.0665 - accuracy: 0.9890 - val_loss: 0.4140 - val_accuracy: 0.8571\n",
            "Epoch 5/10\n",
            "29/29 [==============================] - 871s 30s/step - loss: 0.0407 - accuracy: 0.9967 - val_loss: 0.3143 - val_accuracy: 0.8634\n",
            "Epoch 6/10\n",
            "29/29 [==============================] - 863s 30s/step - loss: 0.0353 - accuracy: 0.9978 - val_loss: 0.3825 - val_accuracy: 0.8696\n",
            "Epoch 7/10\n",
            "29/29 [==============================] - 864s 30s/step - loss: 0.0260 - accuracy: 1.0000 - val_loss: 0.3350 - val_accuracy: 0.8696\n",
            "Epoch 8/10\n",
            "29/29 [==============================] - 866s 30s/step - loss: 0.0227 - accuracy: 0.9989 - val_loss: 0.3393 - val_accuracy: 0.8634\n",
            "Epoch 9/10\n",
            "29/29 [==============================] - 868s 30s/step - loss: 0.0175 - accuracy: 0.9989 - val_loss: 0.4403 - val_accuracy: 0.8696\n",
            "Epoch 10/10\n",
            "29/29 [==============================] - 864s 30s/step - loss: 0.0151 - accuracy: 1.0000 - val_loss: 0.3889 - val_accuracy: 0.8634\n",
            "Epoch 10: early stopping\n"
          ]
        }
      ],
      "source": [
        "from tensorflow.keras.callbacks import EarlyStopping\n",
        "\n",
        "# Early stopping to avoid overfitting of model\n",
        "early_stop = EarlyStopping(monitor=\"val_loss\", mode=\"min\", verbose=1, patience=5)\n",
        "\n",
        "\n",
        "# fit the model\n",
        "history = model.fit(\n",
        "    train_data,\n",
        "    train_classes,\n",
        "    validation_data=(val_data, val_classes),\n",
        "    epochs=10,\n",
        "    callbacks=[early_stop],\n",
        "    batch_size=32,\n",
        "    shuffle=True,\n",
        ")"
      ]
    },
    {
      "cell_type": "code",
      "source": [
        "plt.plot(history.history[\"accuracy\"], label=\"train accuracy\")\n",
        "\n",
        "plt.plot(history.history[\"val_accuracy\"], label=\"validation accuracy\")\n",
        "\n",
        "plt.legend()\n",
        "\n",
        "plt.savefig(\"train-val-accuracy-graph.png\")\n",
        "\n",
        "plt.show()\n",
        "\n",
        "plt.plot(history.history[\"loss\"], label=\"train loss\")\n",
        "plt.plot(history.history[\"val_loss\"], label=\"validation loss\")\n",
        "plt.legend()\n",
        "plt.savefig(\"train-val-loss-graph.png\")\n",
        "plt.show()"
      ],
      "metadata": {
        "colab": {
          "base_uri": "https://localhost:8080/",
          "height": 843
        },
        "id": "A7FyskClDrB2",
        "outputId": "34638328-a335-404a-f088-4fb4f580e2d1"
      },
      "execution_count": 9,
      "outputs": [
        {
          "output_type": "display_data",
          "data": {
            "text/plain": [
              "<Figure size 640x480 with 1 Axes>"
            ],
            "image/png": "[encoded data removed]"
          },
          "metadata": {}
        },
        {
          "output_type": "display_data",
          "data": {
            "text/plain": [
              "<Figure size 640x480 with 1 Axes>"
            ],
            "image/png": "[encoded data removed]"
          },
          "metadata": {}
        }
      ]
    },
    {
      "cell_type": "markdown",
      "metadata": {
        "id": "nzDIxmJRJEJD"
      },
      "source": [
        "# Evaluating the model"
      ]
    },
    {
      "cell_type": "code",
      "execution_count": 10,
      "metadata": {
        "id": "GTrTD1i9JEJD",
        "outputId": "f44c292b-599c-4665-bfc3-7c86ac4f9bd9",
        "colab": {
          "base_uri": "https://localhost:8080/"
        }
      },
      "outputs": [
        {
          "output_type": "stream",
          "name": "stdout",
          "text": [
            "16/16 [==============================] - 396s 24s/step - loss: 0.2806 - accuracy: 0.8984\n"
          ]
        },
        {
          "output_type": "execute_result",
          "data": {
            "text/plain": [
              "[0.28057610988616943, 0.8983739614486694]"
            ]
          },
          "metadata": {},
          "execution_count": 10
        }
      ],
      "source": [
        "model.evaluate(test_data, test_classes, batch_size=32)"
      ]
    },
    {
      "cell_type": "code",
      "source": [
        "predictions = model.predict(test_data)\n",
        "predictions = np.argmax(predictions, axis=1)\n",
        "print(classification_report(predictions, test_classes))\n",
        "print(confusion_matrix(predictions, test_classes))"
      ],
      "metadata": {
        "colab": {
          "base_uri": "https://localhost:8080/"
        },
        "id": "5ZfD7k78EqC_",
        "outputId": "e4015de9-c2d1-464a-fc4f-906c28fe217d"
      },
      "execution_count": 11,
      "outputs": [
        {
          "output_type": "stream",
          "name": "stdout",
          "text": [
            "16/16 [==============================] - 400s 25s/step\n",
            "              precision    recall  f1-score   support\n",
            "\n",
            "           0       0.79      0.91      0.84       150\n",
            "           1       0.96      0.89      0.92       342\n",
            "\n",
            "    accuracy                           0.90       492\n",
            "   macro avg       0.87      0.90      0.88       492\n",
            "weighted avg       0.91      0.90      0.90       492\n",
            "\n",
            "[[136  14]\n",
            " [ 36 306]]\n"
          ]
        }
      ]
    }
  ],
  "metadata": {
    "kernelspec": {
      "display_name": "cnn-env",
      "language": "python",
      "name": "python3"
    },
    "language_info": {
      "codemirror_mode": {
        "name": "ipython",
        "version": 3
      },
      "file_extension": ".py",
      "mimetype": "text/x-python",
      "name": "python",
      "nbconvert_exporter": "python",
      "pygments_lexer": "ipython3",
      "version": "3.11.8"
    },
    "colab": {
      "provenance": []
    }
  },
  "nbformat": 4,
  "nbformat_minor": 0
}